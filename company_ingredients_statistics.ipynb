{
 "cells": [
  {
   "cell_type": "code",
   "execution_count": 15,
   "metadata": {},
   "outputs": [
    {
     "name": "stdout",
     "output_type": "stream",
     "text": [
      "Number of tokens: 4063432\n",
      "Number of types: 16261\n",
      "Type/Token ratio: 0.0040017896202028235\n"
     ]
    }
   ],
   "source": [
    "import pandas as pd\n",
    "import numpy as np\n",
    "import os\n",
    "# get file names\n",
    "file_names = os.listdir(\"company_ingredient_data\")\n",
    "all_words = []\n",
    "# loop through files\n",
    "for name in file_names:\n",
    "    with open(\"company_ingredient_data/\" + name, 'r', encoding='utf-8') as f:\n",
    "        # read in data\n",
    "        df = pd.read_csv(f, delimiter='@')\n",
    "        df = df['ingredients']\n",
    "        # go through each ingredient list\n",
    "        for item in df:\n",
    "            # added so that it worked, apparently one ingredient list was read in as a float\n",
    "            if not isinstance(item, float):\n",
    "                words = item.split()\n",
    "                # add all the words to the all words list\n",
    "                for word in words:\n",
    "                    all_words.append(word)\n",
    "# calculate token number, type number, and type token ratio\n",
    "tokens = len(all_words)\n",
    "types = len(set(all_words))\n",
    "print('Number of tokens: ' + str(tokens))\n",
    "print('Number of types: ' + str(types))\n",
    "ratio = types/tokens\n",
    "print('Type/Token ratio: ' + str(ratio))\n",
    "\n",
    "\n"
   ]
  }
 ],
 "metadata": {
  "kernelspec": {
   "display_name": "AIEnv",
   "language": "python",
   "name": "python3"
  },
  "language_info": {
   "codemirror_mode": {
    "name": "ipython",
    "version": 3
   },
   "file_extension": ".py",
   "mimetype": "text/x-python",
   "name": "python",
   "nbconvert_exporter": "python",
   "pygments_lexer": "ipython3",
   "version": "3.9.16"
  }
 },
 "nbformat": 4,
 "nbformat_minor": 2
}
